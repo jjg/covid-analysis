{
 "cells": [
  {
   "cell_type": "markdown",
   "metadata": {},
   "source": [
    "# Dodge County COVID-19 Dashboard\n",
    "\n",
    "This notebook was created to investigate the data provided by Dodge County Health Department and provide a more accurate alternative.\n",
    "\n",
    "\n",
    "# References\n",
    "\n",
    "* https://web.archive.org/web/20200101000000*/https://www.co.dodge.wi.gov/government/departments-e-m/human-services-health-department/coronavirus-information\n",
    "* https://doc.wi.gov/Pages/COVID19(Coronavirus)/COVID19TestingDashboard.aspx\n",
    "* https://www.dhs.wisconsin.gov/publications/p02677.pdf\n",
    "* https://www.dhs.wisconsin.gov/covid-19/data-101.htm\n",
    "* https://www.co.dodge.wi.gov/government/departments-e-m/human-services-health-department/coronavirus-information\n",
    "* https://globalepidemics.org/key-metrics-for-covid-suppression/?fbclid=IwAR0rmBPprbrmJgIQ8lyr8_mFXQFeSWqESg8O4fAgEjAWuWWYKRmKkXQyqP8\n",
    "* https://www.co.dodge.wi.gov/home/showdocument?id=38587\n",
    "* "
   ]
  },
  {
   "cell_type": "code",
   "execution_count": 1,
   "metadata": {},
   "outputs": [],
   "source": [
    "# Use the Wisconsin Department of Health Services API to get data\n",
    "\n",
    "import pandas as pd\n",
    "\n",
    "q = \"https://opendata.arcgis.com/datasets/b913e9591eae4912b33dc5b4e88646c5_10.csv?where=GEO%20%3D%20%27County%27&outSR=%7B%22latestWkid%22%3A3857%2C%22wkid%22%3A102100%7D\"\n",
    "ds = pd.read_csv(q)"
   ]
  },
  {
   "cell_type": "code",
   "execution_count": 2,
   "metadata": {},
   "outputs": [
    {
     "data": {
      "text/plain": [
       "14688"
      ]
     },
     "execution_count": 2,
     "metadata": {},
     "output_type": "execute_result"
    }
   ],
   "source": [
    "len(ds)"
   ]
  },
  {
   "cell_type": "code",
   "execution_count": 20,
   "metadata": {},
   "outputs": [],
   "source": [
    "# Select the county to display (population needed for calculations)\n",
    "\n",
    "county = \"Dodge\"\n",
    "county_population =   90005 #90005 = 26.665185 87839 = 27.322715  88759 = 27.039511\n",
    "\n",
    "dc = ds[ds.NAME == county]"
   ]
  },
  {
   "cell_type": "code",
   "execution_count": 21,
   "metadata": {},
   "outputs": [],
   "source": [
    "# Select the columns we're interested in and keep the top 14 most recent rows\n",
    "dc_summary = dc[[\"DATE\", \"NEGATIVE\", \"POSITIVE\", \"DEATHS\", \"DTH_NEW\", \"HOSP_YES\", \"POS_NEW\" ]].sort_values([\"DATE\"], ascending=False).head(20)\n",
    "\n",
    "# Reverse the sort\n",
    "dc_summary = dc_summary.sort_values([\"DATE\"], ascending=True)\n",
    "\n",
    "# Add a calculated column for rolling percentage of positives\n",
    "dc_summary[\"rolling_positive\"] = (dc_summary[\"POSITIVE\"]/(dc_summary[\"POSITIVE\"] + dc_summary[\"NEGATIVE\"])) * 100\n",
    "\n",
    "# Add a calculated column for the \"new cases per 100k of population\" from the Harvard model\n",
    "dc_summary[\"pos_new_rolling\"] = dc_summary[\"POS_NEW\"].rolling(7).mean()\n",
    "dc_summary[\"new_per_100k\"] = (dc_summary[\"pos_new_rolling\"] / county_population) * 100000"
   ]
  },
  {
   "cell_type": "code",
   "execution_count": 22,
   "metadata": {},
   "outputs": [
    {
     "data": {
      "text/html": [
       "<div>\n",
       "<style scoped>\n",
       "    .dataframe tbody tr th:only-of-type {\n",
       "        vertical-align: middle;\n",
       "    }\n",
       "\n",
       "    .dataframe tbody tr th {\n",
       "        vertical-align: top;\n",
       "    }\n",
       "\n",
       "    .dataframe thead th {\n",
       "        text-align: right;\n",
       "    }\n",
       "</style>\n",
       "<table border=\"1\" class=\"dataframe\">\n",
       "  <thead>\n",
       "    <tr style=\"text-align: right;\">\n",
       "      <th></th>\n",
       "      <th>DATE</th>\n",
       "      <th>NEGATIVE</th>\n",
       "      <th>POSITIVE</th>\n",
       "      <th>DEATHS</th>\n",
       "      <th>DTH_NEW</th>\n",
       "      <th>HOSP_YES</th>\n",
       "      <th>POS_NEW</th>\n",
       "      <th>rolling_positive</th>\n",
       "      <th>pos_new_rolling</th>\n",
       "      <th>new_per_100k</th>\n",
       "    </tr>\n",
       "  </thead>\n",
       "  <tbody>\n",
       "    <tr>\n",
       "      <th>14508</th>\n",
       "      <td>2020/10/04 14:00:00+00</td>\n",
       "      <td>24059.0</td>\n",
       "      <td>2178</td>\n",
       "      <td>19</td>\n",
       "      <td>1.0</td>\n",
       "      <td>104.0</td>\n",
       "      <td>41.0</td>\n",
       "      <td>8.301254</td>\n",
       "      <td>48.714286</td>\n",
       "      <td>54.123977</td>\n",
       "    </tr>\n",
       "    <tr>\n",
       "      <th>14616</th>\n",
       "      <td>2020/10/03 14:00:00+00</td>\n",
       "      <td>23871.0</td>\n",
       "      <td>2137</td>\n",
       "      <td>18</td>\n",
       "      <td>0.0</td>\n",
       "      <td>101.0</td>\n",
       "      <td>52.0</td>\n",
       "      <td>8.216703</td>\n",
       "      <td>47.285714</td>\n",
       "      <td>52.536764</td>\n",
       "    </tr>\n",
       "    <tr>\n",
       "      <th>14414</th>\n",
       "      <td>2020/10/02 14:00:00+00</td>\n",
       "      <td>23526.0</td>\n",
       "      <td>2085</td>\n",
       "      <td>18</td>\n",
       "      <td>1.0</td>\n",
       "      <td>100.0</td>\n",
       "      <td>82.0</td>\n",
       "      <td>8.141033</td>\n",
       "      <td>43.285714</td>\n",
       "      <td>48.092566</td>\n",
       "    </tr>\n",
       "    <tr>\n",
       "      <th>14491</th>\n",
       "      <td>2020/10/01 14:00:00+00</td>\n",
       "      <td>23193.0</td>\n",
       "      <td>2003</td>\n",
       "      <td>17</td>\n",
       "      <td>0.0</td>\n",
       "      <td>99.0</td>\n",
       "      <td>44.0</td>\n",
       "      <td>7.949675</td>\n",
       "      <td>39.285714</td>\n",
       "      <td>43.648369</td>\n",
       "    </tr>\n",
       "    <tr>\n",
       "      <th>14273</th>\n",
       "      <td>2020/09/30 14:00:00+00</td>\n",
       "      <td>23183.0</td>\n",
       "      <td>1959</td>\n",
       "      <td>17</td>\n",
       "      <td>0.0</td>\n",
       "      <td>99.0</td>\n",
       "      <td>28.0</td>\n",
       "      <td>7.791743</td>\n",
       "      <td>40.285714</td>\n",
       "      <td>44.759418</td>\n",
       "    </tr>\n",
       "    <tr>\n",
       "      <th>14330</th>\n",
       "      <td>2020/09/29 14:00:00+00</td>\n",
       "      <td>23085.0</td>\n",
       "      <td>1931</td>\n",
       "      <td>17</td>\n",
       "      <td>1.0</td>\n",
       "      <td>97.0</td>\n",
       "      <td>47.0</td>\n",
       "      <td>7.719060</td>\n",
       "      <td>39.714286</td>\n",
       "      <td>44.124533</td>\n",
       "    </tr>\n",
       "    <tr>\n",
       "      <th>14207</th>\n",
       "      <td>2020/09/28 14:00:00+00</td>\n",
       "      <td>23071.0</td>\n",
       "      <td>1884</td>\n",
       "      <td>16</td>\n",
       "      <td>0.0</td>\n",
       "      <td>96.0</td>\n",
       "      <td>47.0</td>\n",
       "      <td>7.549589</td>\n",
       "      <td>36.857143</td>\n",
       "      <td>40.950106</td>\n",
       "    </tr>\n",
       "    <tr>\n",
       "      <th>14129</th>\n",
       "      <td>2020/09/27 14:00:00+00</td>\n",
       "      <td>22874.0</td>\n",
       "      <td>1837</td>\n",
       "      <td>16</td>\n",
       "      <td>0.0</td>\n",
       "      <td>93.0</td>\n",
       "      <td>31.0</td>\n",
       "      <td>7.433936</td>\n",
       "      <td>33.857143</td>\n",
       "      <td>37.616958</td>\n",
       "    </tr>\n",
       "    <tr>\n",
       "      <th>10988</th>\n",
       "      <td>2020/09/26 14:00:00+00</td>\n",
       "      <td>22806.0</td>\n",
       "      <td>1806</td>\n",
       "      <td>16</td>\n",
       "      <td>2.0</td>\n",
       "      <td>93.0</td>\n",
       "      <td>24.0</td>\n",
       "      <td>7.337884</td>\n",
       "      <td>33.285714</td>\n",
       "      <td>36.982072</td>\n",
       "    </tr>\n",
       "    <tr>\n",
       "      <th>14021</th>\n",
       "      <td>2020/09/25 14:00:00+00</td>\n",
       "      <td>22659.0</td>\n",
       "      <td>1782</td>\n",
       "      <td>14</td>\n",
       "      <td>0.0</td>\n",
       "      <td>93.0</td>\n",
       "      <td>54.0</td>\n",
       "      <td>7.291027</td>\n",
       "      <td>34.857143</td>\n",
       "      <td>38.728007</td>\n",
       "    </tr>\n",
       "    <tr>\n",
       "      <th>14088</th>\n",
       "      <td>2020/09/24 14:00:00+00</td>\n",
       "      <td>22266.0</td>\n",
       "      <td>1728</td>\n",
       "      <td>14</td>\n",
       "      <td>0.0</td>\n",
       "      <td>92.0</td>\n",
       "      <td>51.0</td>\n",
       "      <td>7.201800</td>\n",
       "      <td>30.857143</td>\n",
       "      <td>34.283810</td>\n",
       "    </tr>\n",
       "    <tr>\n",
       "      <th>13955</th>\n",
       "      <td>2020/09/23 14:00:00+00</td>\n",
       "      <td>22075.0</td>\n",
       "      <td>1677</td>\n",
       "      <td>14</td>\n",
       "      <td>4.0</td>\n",
       "      <td>90.0</td>\n",
       "      <td>24.0</td>\n",
       "      <td>7.060458</td>\n",
       "      <td>28.571429</td>\n",
       "      <td>31.744268</td>\n",
       "    </tr>\n",
       "    <tr>\n",
       "      <th>10138</th>\n",
       "      <td>2020/09/22 14:00:00+00</td>\n",
       "      <td>21868.0</td>\n",
       "      <td>1653</td>\n",
       "      <td>10</td>\n",
       "      <td>1.0</td>\n",
       "      <td>90.0</td>\n",
       "      <td>27.0</td>\n",
       "      <td>7.027762</td>\n",
       "      <td>27.714286</td>\n",
       "      <td>30.791940</td>\n",
       "    </tr>\n",
       "    <tr>\n",
       "      <th>10066</th>\n",
       "      <td>2020/09/21 14:00:00+00</td>\n",
       "      <td>21745.0</td>\n",
       "      <td>1626</td>\n",
       "      <td>9</td>\n",
       "      <td>0.0</td>\n",
       "      <td>90.0</td>\n",
       "      <td>26.0</td>\n",
       "      <td>6.957340</td>\n",
       "      <td>29.857143</td>\n",
       "      <td>33.172760</td>\n",
       "    </tr>\n",
       "  </tbody>\n",
       "</table>\n",
       "</div>"
      ],
      "text/plain": [
       "                         DATE  NEGATIVE  POSITIVE  DEATHS  DTH_NEW  HOSP_YES  \\\n",
       "14508  2020/10/04 14:00:00+00   24059.0      2178      19      1.0     104.0   \n",
       "14616  2020/10/03 14:00:00+00   23871.0      2137      18      0.0     101.0   \n",
       "14414  2020/10/02 14:00:00+00   23526.0      2085      18      1.0     100.0   \n",
       "14491  2020/10/01 14:00:00+00   23193.0      2003      17      0.0      99.0   \n",
       "14273  2020/09/30 14:00:00+00   23183.0      1959      17      0.0      99.0   \n",
       "14330  2020/09/29 14:00:00+00   23085.0      1931      17      1.0      97.0   \n",
       "14207  2020/09/28 14:00:00+00   23071.0      1884      16      0.0      96.0   \n",
       "14129  2020/09/27 14:00:00+00   22874.0      1837      16      0.0      93.0   \n",
       "10988  2020/09/26 14:00:00+00   22806.0      1806      16      2.0      93.0   \n",
       "14021  2020/09/25 14:00:00+00   22659.0      1782      14      0.0      93.0   \n",
       "14088  2020/09/24 14:00:00+00   22266.0      1728      14      0.0      92.0   \n",
       "13955  2020/09/23 14:00:00+00   22075.0      1677      14      4.0      90.0   \n",
       "10138  2020/09/22 14:00:00+00   21868.0      1653      10      1.0      90.0   \n",
       "10066  2020/09/21 14:00:00+00   21745.0      1626       9      0.0      90.0   \n",
       "\n",
       "       POS_NEW  rolling_positive  pos_new_rolling  new_per_100k  \n",
       "14508     41.0          8.301254        48.714286     54.123977  \n",
       "14616     52.0          8.216703        47.285714     52.536764  \n",
       "14414     82.0          8.141033        43.285714     48.092566  \n",
       "14491     44.0          7.949675        39.285714     43.648369  \n",
       "14273     28.0          7.791743        40.285714     44.759418  \n",
       "14330     47.0          7.719060        39.714286     44.124533  \n",
       "14207     47.0          7.549589        36.857143     40.950106  \n",
       "14129     31.0          7.433936        33.857143     37.616958  \n",
       "10988     24.0          7.337884        33.285714     36.982072  \n",
       "14021     54.0          7.291027        34.857143     38.728007  \n",
       "14088     51.0          7.201800        30.857143     34.283810  \n",
       "13955     24.0          7.060458        28.571429     31.744268  \n",
       "10138     27.0          7.027762        27.714286     30.791940  \n",
       "10066     26.0          6.957340        29.857143     33.172760  "
      ]
     },
     "execution_count": 22,
     "metadata": {},
     "output_type": "execute_result"
    }
   ],
   "source": [
    "# Print the last week's data\n",
    "dc_summary.tail(14).sort_values([\"DATE\"], ascending=False)"
   ]
  },
  {
   "cell_type": "markdown",
   "metadata": {},
   "source": [
    "## Some misc. charts"
   ]
  },
  {
   "cell_type": "code",
   "execution_count": 10,
   "metadata": {},
   "outputs": [
    {
     "data": {
      "text/plain": [
       "<AxesSubplot:xlabel='DATE'>"
      ]
     },
     "execution_count": 10,
     "metadata": {},
     "output_type": "execute_result"
    },
    {
     "data": {
      "image/png": "[encoded data removed]",
      "text/plain": [
       "<Figure size 432x288 with 1 Axes>"
      ]
     },
     "metadata": {
      "needs_background": "light"
     },
     "output_type": "display_data"
    }
   ],
   "source": [
    "dc_summary.sort_values([\"DATE\"], ascending=True).plot(x=\"DATE\", y=\"DEATHS\")"
   ]
  },
  {
   "cell_type": "code",
   "execution_count": 11,
   "metadata": {},
   "outputs": [
    {
     "data": {
      "text/plain": [
       "<AxesSubplot:xlabel='DATE'>"
      ]
     },
     "execution_count": 11,
     "metadata": {},
     "output_type": "execute_result"
    },
    {
     "data": {
      "image/png": "[encoded data removed]",
      "text/plain": [
       "<Figure size 432x288 with 1 Axes>"
      ]
     },
     "metadata": {
      "needs_background": "light"
     },
     "output_type": "display_data"
    }
   ],
   "source": [
    "dc_summary.tail(14).sort_values([\"DATE\"], ascending=True).plot(x=\"DATE\", y=\"POSITIVE\")"
   ]
  },
  {
   "cell_type": "code",
   "execution_count": 12,
   "metadata": {},
   "outputs": [
    {
     "data": {
      "text/plain": [
       "<AxesSubplot:xlabel='DATE'>"
      ]
     },
     "execution_count": 12,
     "metadata": {},
     "output_type": "execute_result"
    },
    {
     "data": {
      "image/png": "[encoded data removed]",
      "text/plain": [
       "<Figure size 432x288 with 1 Axes>"
      ]
     },
     "metadata": {
      "needs_background": "light"
     },
     "output_type": "display_data"
    }
   ],
   "source": [
    "dc_summary.tail(14).sort_values([\"DATE\"], ascending=True).plot(x=\"DATE\", y=\"HOSP_YES\")"
   ]
  },
  {
   "cell_type": "code",
   "execution_count": 17,
   "metadata": {},
   "outputs": [
    {
     "data": {
      "text/plain": [
       "<AxesSubplot:xlabel='DATE'>"
      ]
     },
     "execution_count": 17,
     "metadata": {},
     "output_type": "execute_result"
    },
    {
     "data": {
      "image/png": "[encoded data removed]",
      "text/plain": [
       "<Figure size 432x288 with 1 Axes>"
      ]
     },
     "metadata": {
      "needs_background": "light"
     },
     "output_type": "display_data"
    }
   ],
   "source": [
    "dc_summary.tail(14).sort_values([\"DATE\"], ascending=True).plot(x=\"DATE\", y=\"new_per_100k\")"
   ]
  },
  {
   "cell_type": "code",
   "execution_count": null,
   "metadata": {},
   "outputs": [],
   "source": []
  }
 ],
 "metadata": {
  "kernelspec": {
   "display_name": "Python 3",
   "language": "python",
   "name": "python3"
  },
  "language_info": {
   "codemirror_mode": {
    "name": "ipython",
    "version": 3
   },
   "file_extension": ".py",
   "mimetype": "text/x-python",
   "name": "python",
   "nbconvert_exporter": "python",
   "pygments_lexer": "ipython3",
   "version": "3.8.5"
  }
 },
 "nbformat": 4,
 "nbformat_minor": 4
}
